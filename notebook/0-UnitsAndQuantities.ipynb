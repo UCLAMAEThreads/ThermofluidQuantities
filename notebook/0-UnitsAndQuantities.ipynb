{
 "cells": [
  {
   "cell_type": "markdown",
   "metadata": {},
   "source": [
    "# Fluid properties, flow quantities, and units\n",
    "In this notebook, we will discuss *fluid properties* and *flow quantities*,\n",
    "and the systems of units we use for them. First, some basic definitions:\n",
    "- Fluid properties are properties of the material (the fluid)\n",
    "- Flow quantities are characteristics of the flow of this fluid\n",
    "We will also introduce some syntax we will use in this notebook and those that follow for dealing with units."
   ]
  },
  {
   "cell_type": "markdown",
   "metadata": {},
   "source": [
    "### Set up the module"
   ]
  },
  {
   "cell_type": "code",
   "execution_count": 2,
   "metadata": {},
   "outputs": [],
   "source": [
    "using ThermofluidQuantities"
   ]
  },
  {
   "cell_type": "markdown",
   "metadata": {},
   "source": [
    "We will generally focus on SI units, and these will be the default system\n",
    "for displaying quantities. However, we also need to be familiar\n",
    "with Imperial (sometimes called \"English\") units, which arise in many\n",
    "situations in engineering. In the examples below, we will show that the tools\n",
    "in these notebooks allow us to easily convert from one system to another.\n",
    "\n",
    "For any quantity, we can see what the default units are by using `default_unit`.\n",
    "For example, for pressure,"
   ]
  },
  {
   "cell_type": "code",
   "execution_count": 13,
   "metadata": {},
   "outputs": [
    {
     "data": {
      "text/plain": [
       "Pa"
      ]
     },
     "execution_count": 13,
     "metadata": {},
     "output_type": "execute_result"
    }
   ],
   "source": [
    "default_unit(Pressure)"
   ]
  },
  {
   "cell_type": "code",
   "execution_count": 15,
   "metadata": {},
   "outputs": [
    {
     "data": {
      "text/plain": [
       "doublethepressure (generic function with 1 method)"
      ]
     },
     "execution_count": 15,
     "metadata": {},
     "output_type": "execute_result"
    }
   ],
   "source": [
    "function doublethepressure(p::Pressure)\n",
    "    Pressure(2*p)\n",
    "end"
   ]
  },
  {
   "cell_type": "code",
   "execution_count": 18,
   "metadata": {},
   "outputs": [
    {
     "data": {
      "text/plain": [
       "Pressure = 101325.0 Pa"
      ]
     },
     "execution_count": 18,
     "metadata": {},
     "output_type": "execute_result"
    }
   ],
   "source": [
    "p = Pressure(1u\"atm\")"
   ]
  },
  {
   "cell_type": "code",
   "execution_count": 28,
   "metadata": {},
   "outputs": [
    {
     "data": {
      "text/plain": [
       "Union{Unitful.Quantity{T, 𝐌 𝐋⁻¹ 𝐓⁻², U}, Unitful.Level{L, S, Unitful.Quantity{T, 𝐌 𝐋⁻¹ 𝐓⁻², U}} where {L, S}} where {T, U}"
      ]
     },
     "execution_count": 28,
     "metadata": {},
     "output_type": "execute_result"
    }
   ],
   "source": [
    "PressureType"
   ]
  },
  {
   "cell_type": "code",
   "execution_count": 29,
   "metadata": {},
   "outputs": [],
   "source": [
    "@dimvar MyCoolMass MassType"
   ]
  },
  {
   "cell_type": "code",
   "execution_count": 26,
   "metadata": {},
   "outputs": [
    {
     "data": {
      "text/plain": [
       "Mass = 10.0 kg"
      ]
     },
     "execution_count": 26,
     "metadata": {},
     "output_type": "execute_result"
    }
   ],
   "source": [
    "Mass(10)"
   ]
  },
  {
   "cell_type": "code",
   "execution_count": 30,
   "metadata": {},
   "outputs": [
    {
     "data": {
      "text/plain": [
       "newton2nd (generic function with 1 method)"
      ]
     },
     "execution_count": 30,
     "metadata": {},
     "output_type": "execute_result"
    }
   ],
   "source": [
    "function newton2nd(m::Mass,a::Acceleration)\n",
    "    Force(m*a)\n",
    "end"
   ]
  },
  {
   "cell_type": "code",
   "execution_count": 70,
   "metadata": {},
   "outputs": [
    {
     "data": {
      "text/plain": [
       "Force = 102.15732056044455 N"
      ]
     },
     "execution_count": 70,
     "metadata": {},
     "output_type": "execute_result"
    }
   ],
   "source": [
    "newton2nd(Mass(1u\"slug\"),Acceleration(7))"
   ]
  },
  {
   "cell_type": "code",
   "execution_count": 72,
   "metadata": {},
   "outputs": [
    {
     "data": {
      "text/plain": [
       "Pressure = 4266.315789473684 Pa"
      ]
     },
     "execution_count": 72,
     "metadata": {},
     "output_type": "execute_result"
    }
   ],
   "source": [
    "Pressure(32u\"mmHg\")"
   ]
  },
  {
   "cell_type": "code",
   "execution_count": 33,
   "metadata": {},
   "outputs": [
    {
     "ename": "LoadError",
     "evalue": "MethodError: no method matching newton2nd(::MyCoolMass{Unitful.Quantity{Rational{Int64}, 𝐌, Unitful.FreeUnits{(kg,), 𝐌, nothing}}}, ::Acceleration{Unitful.Quantity{Rational{Int64}, 𝐋 𝐓⁻², Unitful.FreeUnits{(m, s⁻²), 𝐋 𝐓⁻², nothing}}})\n\u001b[0mClosest candidates are:\n\u001b[0m  newton2nd(\u001b[91m::Mass\u001b[39m, ::Acceleration) at In[30]:1",
     "output_type": "error",
     "traceback": [
      "MethodError: no method matching newton2nd(::MyCoolMass{Unitful.Quantity{Rational{Int64}, 𝐌, Unitful.FreeUnits{(kg,), 𝐌, nothing}}}, ::Acceleration{Unitful.Quantity{Rational{Int64}, 𝐋 𝐓⁻², Unitful.FreeUnits{(m, s⁻²), 𝐋 𝐓⁻², nothing}}})\n\u001b[0mClosest candidates are:\n\u001b[0m  newton2nd(\u001b[91m::Mass\u001b[39m, ::Acceleration) at In[30]:1",
      "",
      "Stacktrace:",
      " [1] top-level scope",
      "   @ In[33]:1",
      " [2] eval",
      "   @ ./boot.jl:360 [inlined]",
      " [3] include_string(mapexpr::typeof(REPL.softscope), mod::Module, code::String, filename::String)",
      "   @ Base ./loading.jl:1094"
     ]
    }
   ],
   "source": [
    "newton2nd(MyCoolMass(10u\"g\"),Acceleration(5u\"ft/s^2\"))"
   ]
  },
  {
   "cell_type": "code",
   "execution_count": 65,
   "metadata": {},
   "outputs": [
    {
     "data": {
      "text/plain": [
       "Density = 20.0 kg m⁻³"
      ]
     },
     "execution_count": 65,
     "metadata": {},
     "output_type": "execute_result"
    }
   ],
   "source": [
    "μ = Viscosity(Air)\n",
    "V = Velocity(45)\n",
    "L = Length(5u\"inch\")\n",
    "ρ = Density(20u\"kg/m^3\")"
   ]
  },
  {
   "cell_type": "code",
   "execution_count": 69,
   "metadata": {},
   "outputs": [
    {
     "data": {
      "text/plain": [
       "ReynoldsNumber = 100.0"
      ]
     },
     "execution_count": 69,
     "metadata": {},
     "output_type": "execute_result"
    }
   ],
   "source": [
    "ReynoldsNumber(100)"
   ]
  },
  {
   "cell_type": "code",
   "execution_count": 67,
   "metadata": {},
   "outputs": [
    {
     "data": {
      "text/plain": [
       "ReynoldsNumber = 6.3854748603351945e6"
      ]
     },
     "execution_count": 67,
     "metadata": {},
     "output_type": "execute_result"
    }
   ],
   "source": [
    "ReynoldsNumber(ρ*V*L/μ)"
   ]
  },
  {
   "cell_type": "code",
   "execution_count": 52,
   "metadata": {},
   "outputs": [
    {
     "data": {
      "text/plain": [
       "8-element Vector{Symbol}:\n",
       " :Air\n",
       " :He\n",
       " :O2\n",
       " :CO2\n",
       " :H2\n",
       " :Methane\n",
       " :N2\n",
       " :Ar"
      ]
     },
     "execution_count": 52,
     "metadata": {},
     "output_type": "execute_result"
    }
   ],
   "source": [
    "ThermofluidQuantities.gases"
   ]
  },
  {
   "cell_type": "markdown",
   "metadata": {},
   "source": [
    "### Fluid properties\n",
    "Let's start by discussing the basic properties of a fluid.\n",
    "\n",
    "#### Density\n",
    "The **density** provides a measure of the amount of fluid material per unit volume.\n",
    "It is measured in units of mass/volume:"
   ]
  },
  {
   "cell_type": "code",
   "execution_count": 3,
   "metadata": {},
   "outputs": [
    {
     "data": {
      "text/plain": [
       "kg m⁻³"
      ]
     },
     "execution_count": 3,
     "metadata": {},
     "output_type": "execute_result"
    }
   ],
   "source": [
    "default_unit(Density)"
   ]
  },
  {
   "cell_type": "markdown",
   "metadata": {},
   "source": [
    "For example, the density of water at a reference temperature of 15.6 degrees C is"
   ]
  },
  {
   "cell_type": "code",
   "execution_count": 4,
   "metadata": {},
   "outputs": [
    {
     "data": {
      "text/plain": [
       "Density = 999.0 kg m⁻³"
      ]
     },
     "execution_count": 4,
     "metadata": {},
     "output_type": "execute_result"
    }
   ],
   "source": [
    "Density(Water)"
   ]
  },
  {
   "cell_type": "markdown",
   "metadata": {},
   "source": [
    "and for air at temperature of 15 degrees C and pressure of 1 atmosphere is"
   ]
  },
  {
   "cell_type": "code",
   "execution_count": 5,
   "metadata": {},
   "outputs": [
    {
     "data": {
      "text/plain": [
       "Density = 1.225225682761773 kg m⁻³"
      ]
     },
     "execution_count": 5,
     "metadata": {},
     "output_type": "execute_result"
    }
   ],
   "source": [
    "Density(Air)"
   ]
  },
  {
   "cell_type": "markdown",
   "metadata": {},
   "source": [
    "Notice that water is around 800 times denser than air. This fact is very important\n",
    "in fluid mechanics!"
   ]
  },
  {
   "cell_type": "markdown",
   "metadata": {},
   "source": [
    "Remember that the density of gases, like air, depend on pressure and temperature (by\n",
    "the ideal gas law), so the density of a gas may be sensitive to the local conditions.\n",
    "This will happen in flows traveling relatively fast ([Q: compared to what?]). In such a case, density is a flow quantity,\n",
    "not a fluid property, and we have to determine its value as part of the problem.\n",
    "\n",
    "However, when a gas is traveling relatively slow [Q: compared to what?], we can\n",
    "often treat a gas as having constant density, so it can be treated as a fluid property.\n",
    "\n",
    "And liquid density is generally not sensitive. In fact, usually we can assume that the\n",
    "density in a liquid is constant and uniform. We can treat\n",
    "density in a liquid as a fluid property rather than a flow quantity."
   ]
  },
  {
   "cell_type": "markdown",
   "metadata": {},
   "source": [
    "Also note that the density of seawater is larger (at average salt concentration)\n",
    "than that of freshwater"
   ]
  },
  {
   "cell_type": "code",
   "execution_count": 6,
   "metadata": {},
   "outputs": [
    {
     "data": {
      "text/plain": [
       "Density = 1030.0 kg m⁻³"
      ]
     },
     "execution_count": 6,
     "metadata": {},
     "output_type": "execute_result"
    }
   ],
   "source": [
    "Density(Seawater)"
   ]
  },
  {
   "cell_type": "markdown",
   "metadata": {},
   "source": [
    "What if we want to set the density in other units? For example, in imperial\n",
    "units, we would usually set it with lbm/ft^3. (In the notebooks, we use `lbm` for\n",
    "pound (mass), and `lbf` is used for pound (force).) To set the units of a quantity,\n",
    "rather than rely on the default units, we use the syntax to follow the number with\n",
    " `u\"units\"`. It will automatically convert it to the default units. For example, 2 lb/ft^3:"
   ]
  },
  {
   "cell_type": "code",
   "execution_count": 7,
   "metadata": {},
   "outputs": [
    {
     "data": {
      "text/plain": [
       "Density = 32.03692674792028 kg m⁻³"
      ]
     },
     "execution_count": 7,
     "metadata": {},
     "output_type": "execute_result"
    }
   ],
   "source": [
    "Density(2u\"lbm/ft^3\")"
   ]
  },
  {
   "cell_type": "markdown",
   "metadata": {},
   "source": [
    "and to report the value of a quantity in other units, we use the `value`\n",
    "function. For example, to get the density of water in lb/ft^3:"
   ]
  },
  {
   "cell_type": "code",
   "execution_count": 8,
   "metadata": {},
   "outputs": [
    {
     "data": {
      "text/plain": [
       "62.36553261556846 lbm ft⁻³"
      ]
     },
     "execution_count": 8,
     "metadata": {},
     "output_type": "execute_result"
    }
   ],
   "source": [
    "value(Density(Water),u\"lbm/ft^3\")"
   ]
  },
  {
   "cell_type": "markdown",
   "metadata": {},
   "source": [
    "#### Viscosity\n",
    "The internal friction in the fluid, called the *viscosity* (or, more specifically, the *dynamic viscosity*), given\n",
    "by the Greek symbol $\\mu$. [We can get this symbol by typing `\\mu+TAB`.] The\n",
    "viscosity controls the relationship between *shear stress*  $\\tau$ (the frictional\n",
    "force per unit area) and the *strain rate*, given by the gradient of velocity,\n",
    "$\\mathrm{d}u/\\mathrm{d}y$. This latter quantity measures the difference in speeds in adjacent layers\n",
    "of fluid, and larger differences suggest more shear stress. Viscosity is\n",
    "the proportionality constant\n",
    "\n",
    "$$\\tau = \\mu \\dfrac{\\mathrm{d}u}{\\mathrm{d}y}$$\n",
    "\n",
    "We will learn\n",
    "much more about viscosity later, but for now, it is sufficient to\n",
    "know that viscosity has units of kg/m/s:"
   ]
  },
  {
   "cell_type": "code",
   "execution_count": 9,
   "metadata": {},
   "outputs": [
    {
     "data": {
      "text/plain": [
       "Viscosity = 0.00112 kg m⁻¹ s⁻¹"
      ]
     },
     "execution_count": 9,
     "metadata": {},
     "output_type": "execute_result"
    }
   ],
   "source": [
    "μw = Viscosity(Water)"
   ]
  },
  {
   "cell_type": "code",
   "execution_count": 10,
   "metadata": {},
   "outputs": [
    {
     "data": {
      "text/plain": [
       "Viscosity = 1.79e-5 kg m⁻¹ s⁻¹"
      ]
     },
     "execution_count": 10,
     "metadata": {},
     "output_type": "execute_result"
    }
   ],
   "source": [
    "μa = Viscosity(Air)"
   ]
  },
  {
   "cell_type": "markdown",
   "metadata": {},
   "source": [
    "Note that water is much more viscous the air:"
   ]
  },
  {
   "cell_type": "code",
   "execution_count": 11,
   "metadata": {},
   "outputs": [
    {
     "data": {
      "text/plain": [
       "62.569832402234624"
      ]
     },
     "execution_count": 11,
     "metadata": {},
     "output_type": "execute_result"
    }
   ],
   "source": [
    "μw/μa"
   ]
  },
  {
   "cell_type": "markdown",
   "metadata": {},
   "source": [
    "This is probably intuitive to you.\n",
    "Note that both of these viscosities are much smaller than that of glycerin:"
   ]
  },
  {
   "cell_type": "code",
   "execution_count": 12,
   "metadata": {},
   "outputs": [
    {
     "data": {
      "text/plain": [
       "Viscosity = 1.5 kg m⁻¹ s⁻¹"
      ]
     },
     "execution_count": 12,
     "metadata": {},
     "output_type": "execute_result"
    }
   ],
   "source": [
    "Viscosity(Glycerin)"
   ]
  },
  {
   "cell_type": "markdown",
   "metadata": {},
   "source": [
    "We will also occasionally make use of the ratio between viscosity and density.\n",
    "This is called the *kinematic viscosity*. We use the symbol $\\nu$ for this\n",
    "[obtained by typing `\\mu+TAB`.]"
   ]
  },
  {
   "cell_type": "code",
   "execution_count": 13,
   "metadata": {},
   "outputs": [
    {
     "data": {
      "text/plain": [
       "KinematicViscosity = 1.121121121121121e-6 m² s⁻¹"
      ]
     },
     "execution_count": 13,
     "metadata": {},
     "output_type": "execute_result"
    }
   ],
   "source": [
    "νw = KinematicViscosity(Water)"
   ]
  },
  {
   "cell_type": "code",
   "execution_count": 14,
   "metadata": {},
   "outputs": [
    {
     "data": {
      "text/plain": [
       "KinematicViscosity = 1.460955336787565e-5 m² s⁻¹"
      ]
     },
     "execution_count": 14,
     "metadata": {},
     "output_type": "execute_result"
    }
   ],
   "source": [
    "νa = KinematicViscosity(Air)"
   ]
  },
  {
   "cell_type": "markdown",
   "metadata": {},
   "source": [
    "#### Surface tension\n",
    "The surface tension is a property associated with liquid interfaces, and particularly,\n",
    "liquid interfaces with gases. The surface tension has units of force per unit length,\n",
    "because if we imagine \"cutting\" a bit of the interface from the rest of it,\n",
    "then this cut would form a perimeter of the snipped part of the interface, and\n",
    "surface tension would act along this perimeter, representing how much the rest\n",
    "of the liquid interface was pulling on it.\n",
    "\n",
    "Surface tension also happens to have units of energy per unit area, so it\n",
    "is sometimes referred to as \"surface energy\". Different liquids have different\n",
    "surface energies, depending on the strength of their inter-molecular forces."
   ]
  },
  {
   "cell_type": "code",
   "execution_count": 15,
   "metadata": {},
   "outputs": [
    {
     "data": {
      "text/plain": [
       "SurfaceTension = 0.0734 N m⁻¹"
      ]
     },
     "execution_count": 15,
     "metadata": {},
     "output_type": "execute_result"
    }
   ],
   "source": [
    "SurfaceTension(Water)"
   ]
  },
  {
   "cell_type": "code",
   "execution_count": 16,
   "metadata": {},
   "outputs": [
    {
     "data": {
      "text/plain": [
       "SurfaceTension = 0.0633 N m⁻¹"
      ]
     },
     "execution_count": 16,
     "metadata": {},
     "output_type": "execute_result"
    }
   ],
   "source": [
    "SurfaceTension(Glycerin)"
   ]
  },
  {
   "cell_type": "markdown",
   "metadata": {},
   "source": [
    "### Flow quantities\n",
    "Now, let's discuss quantities that describe the fluid flow, or\n",
    "at least, the *state* of the fluid. It is important to understand that\n",
    "these quantities are, in general, *field quantities*: they vary from location\n",
    "to location, and perhaps vary over time. So each of them should be\n",
    "thought of as a *function* of the spatial coordinates, $(x,y,z)$ and time $t$.\n",
    "Finding these functions is often our ultimate goal in solving a problem."
   ]
  },
  {
   "cell_type": "markdown",
   "metadata": {},
   "source": [
    "#### Pressure\n",
    "Pressure represents the average force that the molecules exert per unit\n",
    "area of surface. It is important to understand that pressure acts the same in every\n",
    "direction. That is, it is an *isotropic* quantity. This means that, no matter\n",
    "what the orientation of the surface, the pressure acts the same on it, and further,\n",
    "it only acts *perpendicular* to the surface.\n",
    "\n",
    "The default SI unit of pressure is the *Pascal* (Pa, equal to 1 N/m^2, or 1 kg/m/s^2)."
   ]
  },
  {
   "cell_type": "code",
   "execution_count": 17,
   "metadata": {},
   "outputs": [
    {
     "data": {
      "text/plain": [
       "Pressure = 20.0 Pa"
      ]
     },
     "execution_count": 17,
     "metadata": {},
     "output_type": "execute_result"
    }
   ],
   "source": [
    "Pressure(20)"
   ]
  },
  {
   "cell_type": "markdown",
   "metadata": {},
   "source": [
    "But there are many other units for pressure in use. Some common ones. The\n",
    "atmosphere (atm) represents the standard ambient pressure."
   ]
  },
  {
   "cell_type": "code",
   "execution_count": 18,
   "metadata": {},
   "outputs": [
    {
     "data": {
      "text/plain": [
       "Pressure = 101325.0 Pa"
      ]
     },
     "execution_count": 18,
     "metadata": {},
     "output_type": "execute_result"
    }
   ],
   "source": [
    "p = Pressure(1u\"atm\")"
   ]
  },
  {
   "cell_type": "markdown",
   "metadata": {},
   "source": [
    "So 1 atm is about 101325 Pa, or 101.325 kPa. Let's see this written in other units"
   ]
  },
  {
   "cell_type": "code",
   "execution_count": 19,
   "metadata": {},
   "outputs": [
    {
     "data": {
      "text/plain": [
       "14.695948775513449 psi"
      ]
     },
     "execution_count": 19,
     "metadata": {},
     "output_type": "execute_result"
    }
   ],
   "source": [
    "value(p,u\"psi\")"
   ]
  },
  {
   "cell_type": "code",
   "execution_count": 20,
   "metadata": {},
   "outputs": [
    {
     "data": {
      "text/plain": [
       "760.0 mmHg"
      ]
     },
     "execution_count": 20,
     "metadata": {},
     "output_type": "execute_result"
    }
   ],
   "source": [
    "value(p,u\"mmHg\")"
   ]
  },
  {
   "cell_type": "markdown",
   "metadata": {},
   "source": [
    "These are all *absolute* pressures. For many of the flows we will\n",
    "study, the absolute pressure will not be important. Consider,\n",
    "for example, the flow of water through a pipe. Only the *difference* between\n",
    "the pressure at the inlet and the pressure at the outlet matters for\n",
    "driving this flow; the absolute pressure is irrelevant. So\n",
    "we can also define a `PressureDifference`, measured in the\n",
    "same units:"
   ]
  },
  {
   "cell_type": "code",
   "execution_count": 21,
   "metadata": {},
   "outputs": [
    {
     "data": {
      "text/plain": [
       "PressureDifference = 50.0 Pa"
      ]
     },
     "execution_count": 21,
     "metadata": {},
     "output_type": "execute_result"
    }
   ],
   "source": [
    "PressureDifference(50)"
   ]
  },
  {
   "cell_type": "markdown",
   "metadata": {},
   "source": [
    "Pressure is a flow quantity. In general, we need to find its values\n",
    "as part of the problem."
   ]
  },
  {
   "cell_type": "markdown",
   "metadata": {},
   "source": [
    "#### Velocity\n",
    "The velocity of the fluid describes how fast it is moving in each direction,\n",
    "and has units of length/time."
   ]
  },
  {
   "cell_type": "code",
   "execution_count": 22,
   "metadata": {},
   "outputs": [
    {
     "data": {
      "text/plain": [
       "Velocity = 20.0 m s⁻¹"
      ]
     },
     "execution_count": 22,
     "metadata": {},
     "output_type": "execute_result"
    }
   ],
   "source": [
    "u = Velocity(20)"
   ]
  },
  {
   "cell_type": "markdown",
   "metadata": {},
   "source": [
    "In other units,"
   ]
  },
  {
   "cell_type": "code",
   "execution_count": 23,
   "metadata": {},
   "outputs": [
    {
     "data": {
      "text/plain": [
       "2000.0 cm s⁻¹"
      ]
     },
     "execution_count": 23,
     "metadata": {},
     "output_type": "execute_result"
    }
   ],
   "source": [
    "value(u,u\"cm/s\")"
   ]
  },
  {
   "cell_type": "code",
   "execution_count": 24,
   "metadata": {},
   "outputs": [
    {
     "data": {
      "text/plain": [
       "65.61679790026247 ft s⁻¹"
      ]
     },
     "execution_count": 24,
     "metadata": {},
     "output_type": "execute_result"
    }
   ],
   "source": [
    "value(u,u\"ft/s\")"
   ]
  },
  {
   "cell_type": "markdown",
   "metadata": {},
   "source": [
    "We know that velocity is a vector, so it has, in general, three components $(u,v,w)$.\n",
    "It is also a field quantity. This means that each of the three components\n",
    "depends on $(x,y,z)$ and $t$. That's a lot of detail to determine, but once\n",
    "we determine it, we know *everything* about a fluid flow."
   ]
  },
  {
   "cell_type": "markdown",
   "metadata": {},
   "source": [
    "---\n",
    "\n",
    "*This notebook was generated using [Literate.jl](https://github.com/fredrikekre/Literate.jl).*"
   ]
  }
 ],
 "metadata": {
  "kernelspec": {
   "display_name": "Julia 1.6.0",
   "language": "julia",
   "name": "julia-1.6"
  },
  "language_info": {
   "file_extension": ".jl",
   "mimetype": "application/julia",
   "name": "julia",
   "version": "1.6.0"
  }
 },
 "nbformat": 4,
 "nbformat_minor": 3
}
